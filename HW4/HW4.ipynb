{
 "cells": [
  {
   "cell_type": "code",
   "execution_count": 11,
   "metadata": {
    "tags": []
   },
   "outputs": [
    {
     "output_type": "stream",
     "name": "stdout",
     "text": "Pclass  Sex  Age  Fare  EmbarkedCode\n0         3    0    3     1             1\n1         3    1    3     1             2\n2         2    0    4     2             1\n3         3    0    3     2             2\n4         3    1    2     2             2\n..      ...  ...  ...   ...           ...\n413       3    0    2     2             2\n414       1    1    3     4             0\n415       3    0    3     1             2\n416       3    0    2     2             2\n417       3    0    2     3             0\n\n[418 rows x 5 columns]\n"
    }
   ],
   "source": [
    "import pandas as pd;\n",
    "\n",
    "positions = range(2)\n",
    "combined = [pd.read_csv('../Titanic/train_preprocessed.csv'), pd.read_csv('../Titanic/test_preprocessed.csv')]\n",
    "print(combined[1])"
   ]
  }
 ],
 "metadata": {
  "language_info": {
   "codemirror_mode": {
    "name": "ipython",
    "version": 3
   },
   "file_extension": ".py",
   "mimetype": "text/x-python",
   "name": "python",
   "nbconvert_exporter": "python",
   "pygments_lexer": "ipython3",
   "version": "3.8.5-final"
  },
  "orig_nbformat": 2,
  "kernelspec": {
   "name": "python3",
   "display_name": "Python 3"
  }
 },
 "nbformat": 4,
 "nbformat_minor": 2
}