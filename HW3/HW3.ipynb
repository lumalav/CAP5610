{
 "cells": [
  {
   "cell_type": "code",
   "execution_count": 1,
   "metadata": {},
   "outputs": [
    {
     "output_type": "execute_result",
     "data": {
      "text/plain": "   ID       Date     Opponent  ... Is_Opponent_in_AP25_Preseason  Media Label\n0   1   9/5/2015        Texas  ...                           Out  1-NBC   Win\n1   2  9/12/2015     Virginia  ...                           Out  4-ABC   Win\n2   3  9/19/2015  GeorgiaTech  ...                            In  1-NBC   Win\n3   4  9/26/2015        UMass  ...                           Out  1-NBC   Win\n4   5  10/3/2015      Clemson  ...                            In  4-ABC  Lose\n\n[5 rows x 7 columns]",
      "text/html": "<div>\n<style scoped>\n    .dataframe tbody tr th:only-of-type {\n        vertical-align: middle;\n    }\n\n    .dataframe tbody tr th {\n        vertical-align: top;\n    }\n\n    .dataframe thead th {\n        text-align: right;\n    }\n</style>\n<table border=\"1\" class=\"dataframe\">\n  <thead>\n    <tr style=\"text-align: right;\">\n      <th></th>\n      <th>ID</th>\n      <th>Date</th>\n      <th>Opponent</th>\n      <th>Is_Home_or_Away</th>\n      <th>Is_Opponent_in_AP25_Preseason</th>\n      <th>Media</th>\n      <th>Label</th>\n    </tr>\n  </thead>\n  <tbody>\n    <tr>\n      <th>0</th>\n      <td>1</td>\n      <td>9/5/2015</td>\n      <td>Texas</td>\n      <td>Home</td>\n      <td>Out</td>\n      <td>1-NBC</td>\n      <td>Win</td>\n    </tr>\n    <tr>\n      <th>1</th>\n      <td>2</td>\n      <td>9/12/2015</td>\n      <td>Virginia</td>\n      <td>Away</td>\n      <td>Out</td>\n      <td>4-ABC</td>\n      <td>Win</td>\n    </tr>\n    <tr>\n      <th>2</th>\n      <td>3</td>\n      <td>9/19/2015</td>\n      <td>GeorgiaTech</td>\n      <td>Home</td>\n      <td>In</td>\n      <td>1-NBC</td>\n      <td>Win</td>\n    </tr>\n    <tr>\n      <th>3</th>\n      <td>4</td>\n      <td>9/26/2015</td>\n      <td>UMass</td>\n      <td>Home</td>\n      <td>Out</td>\n      <td>1-NBC</td>\n      <td>Win</td>\n    </tr>\n    <tr>\n      <th>4</th>\n      <td>5</td>\n      <td>10/3/2015</td>\n      <td>Clemson</td>\n      <td>Away</td>\n      <td>In</td>\n      <td>4-ABC</td>\n      <td>Lose</td>\n    </tr>\n  </tbody>\n</table>\n</div>"
     },
     "metadata": {},
     "execution_count": 1
    }
   ],
   "source": [
    "import pandas as pd;\n",
    "\n",
    "data = pd.read_csv('../Football/train.csv')\n",
    "\n",
    "data.head()"
   ]
  }
 ],
 "metadata": {
  "language_info": {
   "codemirror_mode": {
    "name": "ipython",
    "version": 3
   },
   "file_extension": ".py",
   "mimetype": "text/x-python",
   "name": "python",
   "nbconvert_exporter": "python",
   "pygments_lexer": "ipython3",
   "version": "3.8.5-final"
  },
  "orig_nbformat": 2,
  "kernelspec": {
   "name": "python3",
   "display_name": "Python 3"
  }
 },
 "nbformat": 4,
 "nbformat_minor": 2
}