{
  "nbformat": 4,
  "nbformat_minor": 0,
  "metadata": {
    "colab": {
      "name": "HW6.ipynb",
      "provenance": [],
      "collapsed_sections": [],
      "authorship_tag": "ABX9TyN7SbmWPCxHE1N9B29DgQSO",
      "include_colab_link": true
    },
    "kernelspec": {
      "name": "python3",
      "display_name": "Python 3"
    }
  },
  "cells": [
    {
      "cell_type": "markdown",
      "metadata": {
        "id": "view-in-github",
        "colab_type": "text"
      },
      "source": [
        "<a href=\"https://colab.research.google.com/github/lumalav/CAP5610/blob/master/HW6.ipynb\" target=\"_parent\"><img src=\"https://colab.research.google.com/assets/colab-badge.svg\" alt=\"Open In Colab\"/></a>"
      ]
    },
    {
      "cell_type": "code",
      "metadata": {
        "colab": {
          "base_uri": "https://localhost:8080/"
        },
        "id": "gISuDANVIvON",
        "outputId": "42fc54c5-13d1-4bb6-bc45-75b2cc6d2e17"
      },
      "source": [
        "!pip install scikit-surprise\n",
        "!pip install scikit-learn\n",
        "!pip install matplotlib"
      ],
      "execution_count": 1,
      "outputs": [
        {
          "output_type": "stream",
          "text": [
            "Requirement already satisfied: scikit-surprise in /usr/local/lib/python3.6/dist-packages (1.1.1)\n",
            "Requirement already satisfied: six>=1.10.0 in /usr/local/lib/python3.6/dist-packages (from scikit-surprise) (1.15.0)\n",
            "Requirement already satisfied: scipy>=1.0.0 in /usr/local/lib/python3.6/dist-packages (from scikit-surprise) (1.4.1)\n",
            "Requirement already satisfied: joblib>=0.11 in /usr/local/lib/python3.6/dist-packages (from scikit-surprise) (0.17.0)\n",
            "Requirement already satisfied: numpy>=1.11.2 in /usr/local/lib/python3.6/dist-packages (from scikit-surprise) (1.18.5)\n",
            "Requirement already satisfied: scikit-learn in /usr/local/lib/python3.6/dist-packages (0.22.2.post1)\n",
            "Requirement already satisfied: numpy>=1.11.0 in /usr/local/lib/python3.6/dist-packages (from scikit-learn) (1.18.5)\n",
            "Requirement already satisfied: scipy>=0.17.0 in /usr/local/lib/python3.6/dist-packages (from scikit-learn) (1.4.1)\n",
            "Requirement already satisfied: joblib>=0.11 in /usr/local/lib/python3.6/dist-packages (from scikit-learn) (0.17.0)\n",
            "Requirement already satisfied: matplotlib in /usr/local/lib/python3.6/dist-packages (3.2.2)\n",
            "Requirement already satisfied: python-dateutil>=2.1 in /usr/local/lib/python3.6/dist-packages (from matplotlib) (2.8.1)\n",
            "Requirement already satisfied: pyparsing!=2.0.4,!=2.1.2,!=2.1.6,>=2.0.1 in /usr/local/lib/python3.6/dist-packages (from matplotlib) (2.4.7)\n",
            "Requirement already satisfied: cycler>=0.10 in /usr/local/lib/python3.6/dist-packages (from matplotlib) (0.10.0)\n",
            "Requirement already satisfied: kiwisolver>=1.0.1 in /usr/local/lib/python3.6/dist-packages (from matplotlib) (1.3.1)\n",
            "Requirement already satisfied: numpy>=1.11 in /usr/local/lib/python3.6/dist-packages (from matplotlib) (1.18.5)\n",
            "Requirement already satisfied: six>=1.5 in /usr/local/lib/python3.6/dist-packages (from python-dateutil>=2.1->matplotlib) (1.15.0)\n"
          ],
          "name": "stdout"
        }
      ]
    },
    {
      "cell_type": "code",
      "metadata": {
        "id": "M7XLhchdIwDh"
      },
      "source": [
        "import pandas as pd; import surprise;"
      ],
      "execution_count": 2,
      "outputs": []
    },
    {
      "cell_type": "code",
      "metadata": {
        "colab": {
          "base_uri": "https://localhost:8080/",
          "height": 195
        },
        "id": "qgpTVYozRRf4",
        "outputId": "87088944-80f4-4beb-cdcc-73874f10660b"
      },
      "source": [
        "raw_data = pd.read_csv('../ratings.csv')\n",
        "raw_data.drop_duplicates(inplace=True)\n",
        "raw_data.head()"
      ],
      "execution_count": 3,
      "outputs": [
        {
          "output_type": "execute_result",
          "data": {
            "text/html": [
              "<div>\n",
              "<style scoped>\n",
              "    .dataframe tbody tr th:only-of-type {\n",
              "        vertical-align: middle;\n",
              "    }\n",
              "\n",
              "    .dataframe tbody tr th {\n",
              "        vertical-align: top;\n",
              "    }\n",
              "\n",
              "    .dataframe thead th {\n",
              "        text-align: right;\n",
              "    }\n",
              "</style>\n",
              "<table border=\"1\" class=\"dataframe\">\n",
              "  <thead>\n",
              "    <tr style=\"text-align: right;\">\n",
              "      <th></th>\n",
              "      <th>userId</th>\n",
              "      <th>movieId</th>\n",
              "      <th>rating</th>\n",
              "      <th>timestamp</th>\n",
              "    </tr>\n",
              "  </thead>\n",
              "  <tbody>\n",
              "    <tr>\n",
              "      <th>0</th>\n",
              "      <td>1</td>\n",
              "      <td>110</td>\n",
              "      <td>1.0</td>\n",
              "      <td>1425941529</td>\n",
              "    </tr>\n",
              "    <tr>\n",
              "      <th>1</th>\n",
              "      <td>1</td>\n",
              "      <td>147</td>\n",
              "      <td>4.5</td>\n",
              "      <td>1425942435</td>\n",
              "    </tr>\n",
              "    <tr>\n",
              "      <th>2</th>\n",
              "      <td>1</td>\n",
              "      <td>858</td>\n",
              "      <td>5.0</td>\n",
              "      <td>1425941523</td>\n",
              "    </tr>\n",
              "    <tr>\n",
              "      <th>3</th>\n",
              "      <td>1</td>\n",
              "      <td>1221</td>\n",
              "      <td>5.0</td>\n",
              "      <td>1425941546</td>\n",
              "    </tr>\n",
              "    <tr>\n",
              "      <th>4</th>\n",
              "      <td>1</td>\n",
              "      <td>1246</td>\n",
              "      <td>5.0</td>\n",
              "      <td>1425941556</td>\n",
              "    </tr>\n",
              "  </tbody>\n",
              "</table>\n",
              "</div>"
            ],
            "text/plain": [
              "   userId  movieId  rating   timestamp\n",
              "0       1      110     1.0  1425941529\n",
              "1       1      147     4.5  1425942435\n",
              "2       1      858     5.0  1425941523\n",
              "3       1     1221     5.0  1425941546\n",
              "4       1     1246     5.0  1425941556"
            ]
          },
          "metadata": {
            "tags": []
          },
          "execution_count": 3
        }
      ]
    },
    {
      "cell_type": "code",
      "metadata": {
        "colab": {
          "base_uri": "https://localhost:8080/",
          "height": 284
        },
        "id": "rKLigFZeSMmz",
        "outputId": "26d9e861-9527-461b-c1a9-f550b62f040d"
      },
      "source": [
        "raw_data.describe()"
      ],
      "execution_count": 4,
      "outputs": [
        {
          "output_type": "execute_result",
          "data": {
            "text/html": [
              "<div>\n",
              "<style scoped>\n",
              "    .dataframe tbody tr th:only-of-type {\n",
              "        vertical-align: middle;\n",
              "    }\n",
              "\n",
              "    .dataframe tbody tr th {\n",
              "        vertical-align: top;\n",
              "    }\n",
              "\n",
              "    .dataframe thead th {\n",
              "        text-align: right;\n",
              "    }\n",
              "</style>\n",
              "<table border=\"1\" class=\"dataframe\">\n",
              "  <thead>\n",
              "    <tr style=\"text-align: right;\">\n",
              "      <th></th>\n",
              "      <th>userId</th>\n",
              "      <th>movieId</th>\n",
              "      <th>rating</th>\n",
              "      <th>timestamp</th>\n",
              "    </tr>\n",
              "  </thead>\n",
              "  <tbody>\n",
              "    <tr>\n",
              "      <th>count</th>\n",
              "      <td>2.602429e+07</td>\n",
              "      <td>2.602429e+07</td>\n",
              "      <td>2.602429e+07</td>\n",
              "      <td>2.602429e+07</td>\n",
              "    </tr>\n",
              "    <tr>\n",
              "      <th>mean</th>\n",
              "      <td>1.350371e+05</td>\n",
              "      <td>1.584911e+04</td>\n",
              "      <td>3.528090e+00</td>\n",
              "      <td>1.171258e+09</td>\n",
              "    </tr>\n",
              "    <tr>\n",
              "      <th>std</th>\n",
              "      <td>7.817620e+04</td>\n",
              "      <td>3.108526e+04</td>\n",
              "      <td>1.065443e+00</td>\n",
              "      <td>2.052889e+08</td>\n",
              "    </tr>\n",
              "    <tr>\n",
              "      <th>min</th>\n",
              "      <td>1.000000e+00</td>\n",
              "      <td>1.000000e+00</td>\n",
              "      <td>5.000000e-01</td>\n",
              "      <td>7.896520e+08</td>\n",
              "    </tr>\n",
              "    <tr>\n",
              "      <th>25%</th>\n",
              "      <td>6.716400e+04</td>\n",
              "      <td>1.073000e+03</td>\n",
              "      <td>3.000000e+00</td>\n",
              "      <td>9.907545e+08</td>\n",
              "    </tr>\n",
              "    <tr>\n",
              "      <th>50%</th>\n",
              "      <td>1.351630e+05</td>\n",
              "      <td>2.583000e+03</td>\n",
              "      <td>3.500000e+00</td>\n",
              "      <td>1.151716e+09</td>\n",
              "    </tr>\n",
              "    <tr>\n",
              "      <th>75%</th>\n",
              "      <td>2.026930e+05</td>\n",
              "      <td>6.503000e+03</td>\n",
              "      <td>4.000000e+00</td>\n",
              "      <td>1.357578e+09</td>\n",
              "    </tr>\n",
              "    <tr>\n",
              "      <th>max</th>\n",
              "      <td>2.708960e+05</td>\n",
              "      <td>1.762750e+05</td>\n",
              "      <td>5.000000e+00</td>\n",
              "      <td>1.501830e+09</td>\n",
              "    </tr>\n",
              "  </tbody>\n",
              "</table>\n",
              "</div>"
            ],
            "text/plain": [
              "             userId       movieId        rating     timestamp\n",
              "count  2.602429e+07  2.602429e+07  2.602429e+07  2.602429e+07\n",
              "mean   1.350371e+05  1.584911e+04  3.528090e+00  1.171258e+09\n",
              "std    7.817620e+04  3.108526e+04  1.065443e+00  2.052889e+08\n",
              "min    1.000000e+00  1.000000e+00  5.000000e-01  7.896520e+08\n",
              "25%    6.716400e+04  1.073000e+03  3.000000e+00  9.907545e+08\n",
              "50%    1.351630e+05  2.583000e+03  3.500000e+00  1.151716e+09\n",
              "75%    2.026930e+05  6.503000e+03  4.000000e+00  1.357578e+09\n",
              "max    2.708960e+05  1.762750e+05  5.000000e+00  1.501830e+09"
            ]
          },
          "metadata": {
            "tags": []
          },
          "execution_count": 4
        }
      ]
    },
    {
      "cell_type": "code",
      "metadata": {
        "id": "UmBQOaGTSZ6J"
      },
      "source": [
        "raw_data = raw_data[['userId', 'movieId', 'rating']]\n",
        "rating_col = raw_data['rating']\n",
        "reader = surprise.Reader(rating_scale=(rating_col.min(),rating_col.max()))\n",
        "data = surprise.Dataset.load_from_df(raw_data, reader)"
      ],
      "execution_count": 5,
      "outputs": []
    },
    {
      "cell_type": "code",
      "metadata": {
        "id": "FXELe-JHUl-W"
      },
      "source": [
        "#source https://www.kaggle.com/robottums/probabalistic-matrix-factorization-with-suprise\n",
        "class ProbabilisticMatrixFactorization(surprise.AlgoBase):\n",
        "# Randomly initializes two Matrices, Stochastic Gradient Descent to be able to optimize the best factorization for ratings.\n",
        "    def __init__(self,learning_rate,num_epochs,num_factors):\n",
        "       # super(surprise.AlgoBase)\n",
        "        self.alpha = learning_rate #learning rate for Stochastic Gradient Descent\n",
        "        self.num_epochs = num_epochs\n",
        "        self.num_factors = num_factors\n",
        "    def fit(self,train):\n",
        "        #randomly initialize user/item factors from a Gaussian\n",
        "        P = np.random.normal(0,.1,(train.n_users,self.num_factors))\n",
        "        Q = np.random.normal(0,.1,(train.n_items,self.num_factors))\n",
        "        #print('fit')\n",
        "\n",
        "        for epoch in range(self.num_epochs):\n",
        "            for u,i,r_ui in train.all_ratings():\n",
        "                residual = r_ui - np.dot(P[u],Q[i])\n",
        "                temp = P[u,:] # we want to update them at the same time, so we make a temporary variable. \n",
        "                P[u,:] +=  self.alpha * residual * Q[i]\n",
        "                Q[i,:] +=  self.alpha * residual * temp \n",
        "\n",
        "                \n",
        "        self.P = P\n",
        "        self.Q = Q\n",
        "\n",
        "        self.trainset = train\n",
        "    \n",
        "    \n",
        "    def estimate(self,u,i):\n",
        "        #returns estimated rating for user u and item i. Prerequisite: Algorithm must be fit to training set.\n",
        "        #check to see if u and i are in the train set:\n",
        "        #print('gahh')\n",
        "\n",
        "        if self.trainset.knows_user(u) and self.trainset.knows_item(i):\n",
        "            #print(u,i, '\\n','yep:', self.P[u],self.Q[i])\n",
        "            #return scalar product of P[u] and Q[i]\n",
        "            nanCheck = np.dot(self.P[u],self.Q[i])\n",
        "            \n",
        "            if np.isnan(nanCheck):\n",
        "                return self.trainset.global_mean\n",
        "            else:\n",
        "                return np.dot(self.P[u,:],self.Q[i,:])\n",
        "        else:# if its not known we'll return the general average. \n",
        "           # print('global mean')\n",
        "            return self.trainset.global_mean\n",
        "                \n",
        "        "
      ],
      "execution_count": 6,
      "outputs": []
    },
    {
      "cell_type": "code",
      "metadata": {
        "id": "T0JAo0KtUt5b"
      },
      "source": [
        "gs = surprise.model_selection.GridSearchCV(ProbabilisticMatrixFactorization, param_grid={'learning_rate':[0.1],\n",
        "                                                                            'num_epochs':[5],\n",
        "                                                                            'num_factors':[10]},measures=['rmse', 'mae'], cv=2)\n",
        "gs.fit(data)"
      ],
      "execution_count": null,
      "outputs": []
    },
    {
      "cell_type": "code",
      "metadata": {
        "id": "94fbUqEKVPQL"
      },
      "source": [
        "print('rsme: ',gs.best_score['rmse'],'mae: ',gs.best_score['mae'])\n",
        "best_params = gs.best_params['rmse']\n",
        "print('rsme: ',gs.best_params['rmse'],'mae: ',gs.best_params['mae'])"
      ],
      "execution_count": null,
      "outputs": []
    }
  ]
}