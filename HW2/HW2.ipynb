{
 "cells": [
  {
   "cell_type": "code",
   "execution_count": 438,
   "metadata": {
    "tags": []
   },
   "outputs": [
    {
     "output_type": "stream",
     "name": "stdout",
     "text": "[{'Age': 177}, {'Cabin': 687}, {'Embarked': 2}]\n"
    }
   ],
   "source": [
    "#Q1\n",
    "import pandas as pd; import numpy as np;\n",
    "data = pd.read_csv('../Titanic/train.csv')\n",
    "\n",
    "null_features_counts = list(filter(lambda x: next(iter(x.values())), \n",
    "                                    map(lambda f: {f: len(data.loc[data[f].isnull()])}, data.columns)))\n",
    "print(str(null_features_counts))\n",
    "\n",
    "#From HW1, I decided to drop the cabin feature since it had too many null values. I am dropping PassengerId as well since its meaningless for the training\n",
    "#For more info check Q15 of: https://github.com/lumalav/CAP5610/blob/master/HW1/HW1.ipynb\n",
    "for x in ['Cabin', 'PassengerId']:\n",
    "    data = data.drop(x, 1)"
   ]
  },
  {
   "cell_type": "code",
   "execution_count": 439,
   "metadata": {
    "tags": []
   },
   "outputs": [
    {
     "output_type": "stream",
     "name": "stdout",
     "text": "0    0\n1    1\n2    1\n3    1\n4    0\nName: Sex, dtype: int64\n"
    }
   ],
   "source": [
    "\n",
    "#Q1 Continuation\n",
    "#converting Sex feature into numerical values \n",
    "#For more info check Q16 of: https://github.com/lumalav/CAP5610/blob/master/HW1/HW1.ipynb\n",
    "data = data.replace({'Sex': 'male'}, {'Sex': 0})\n",
    "data = data.replace({'Sex': 'female'}, {'Sex': 1})\n",
    "\n",
    "print(data['Sex'].head())"
   ]
  },
  {
   "cell_type": "code",
   "execution_count": 440,
   "metadata": {
    "tags": []
   },
   "outputs": [],
   "source": [
    "#Q1 Continuation\n",
    "#Since there are 177 missing values for the Age feature, I will fill these values with random numbers between mean and the std of the entire set\n",
    "#For more info check Q17 of: https://github.com/lumalav/CAP5610/blob/master/HW1/HW1.ipynb\n",
    "std = data['Age'].std()\n",
    "mean = data['Age'].mean()\n",
    "data['Age'] = data['Age'].apply(lambda x: np.random.uniform(mean, std, 1)[0] if np.isnan(x) else x)"
   ]
  },
  {
   "cell_type": "code",
   "execution_count": 441,
   "metadata": {
    "tags": []
   },
   "outputs": [
    {
     "output_type": "stream",
     "name": "stdout",
     "text": "Most common port of embarkation: S, with: 644 occurrences\n"
    }
   ],
   "source": [
    "#Q1 Continuation\n",
    "#Since there are two missing values for the Embarked feature, I will fill these values with the most common occurrence from the entire set\n",
    "#For more info check Q18 of: https://github.com/lumalav/CAP5610/blob/master/HW1/HW1.ipynb\n",
    "embarked = data.pivot_table(index=['Embarked'], aggfunc ='size').to_frame().sort_values([0], ascending=False).iloc[0]\n",
    "\n",
    "print('Most common port of embarkation: ' + embarked.name + ', with: ' + str(embarked.values[0]) + ' occurrences')\n",
    "data['Embarked'] = data['Embarked'].apply(lambda x: embarked.name if pd.isnull(x) else x)"
   ]
  },
  {
   "cell_type": "code",
   "execution_count": 442,
   "metadata": {
    "tags": []
   },
   "outputs": [],
   "source": [
    "#Q1 Continuation\n",
    "#To improve performance, continuous data like Fare and Age will be set into buckets\n",
    "#For more info check Q20 of: https://github.com/lumalav/CAP5610/blob/master/HW1/HW1.ipynb\n",
    "data['Fare'] = pd.cut(data['Fare'], bins=[-0.001,7.91,14.4542,31.0,512.3292], labels=[0,1,2,3])\n",
    "data['Age'] = pd.cut(data['Age'], bins=[0,15,25,50,75,80], labels=[0,1,2,3,4])"
   ]
  },
  {
   "cell_type": "code",
   "execution_count": 443,
   "metadata": {
    "tags": []
   },
   "outputs": [
    {
     "output_type": "stream",
     "name": "stdout",
     "text": "Preprocessed data:\n"
    },
    {
     "output_type": "execute_result",
     "data": {
      "text/plain": "     Survived  Pclass                                               Name  Sex  \\\n0           0       3                            Braund, Mr. Owen Harris    0   \n1           1       1  Cumings, Mrs. John Bradley (Florence Briggs Th...    1   \n2           1       3                             Heikkinen, Miss. Laina    1   \n3           1       1       Futrelle, Mrs. Jacques Heath (Lily May Peel)    1   \n4           0       3                           Allen, Mr. William Henry    0   \n..        ...     ...                                                ...  ...   \n886         0       2                              Montvila, Rev. Juozas    0   \n887         1       1                       Graham, Miss. Margaret Edith    1   \n888         0       3           Johnston, Miss. Catherine Helen \"Carrie\"    1   \n889         1       1                              Behr, Mr. Karl Howell    0   \n890         0       3                                Dooley, Mr. Patrick    0   \n\n    Age  SibSp  Parch            Ticket Fare Embarked  \n0     1      1      0         A/5 21171    0        S  \n1     2      1      0          PC 17599    3        C  \n2     2      0      0  STON/O2. 3101282    1        S  \n3     2      1      0            113803    3        S  \n4     2      0      0            373450    1        S  \n..   ..    ...    ...               ...  ...      ...  \n886   2      0      0            211536    1        S  \n887   1      0      0            112053    2        S  \n888   1      1      2        W./C. 6607    2        S  \n889   2      0      0            111369    2        C  \n890   2      0      0            370376    0        Q  \n\n[891 rows x 10 columns]",
      "text/html": "<div>\n<style scoped>\n    .dataframe tbody tr th:only-of-type {\n        vertical-align: middle;\n    }\n\n    .dataframe tbody tr th {\n        vertical-align: top;\n    }\n\n    .dataframe thead th {\n        text-align: right;\n    }\n</style>\n<table border=\"1\" class=\"dataframe\">\n  <thead>\n    <tr style=\"text-align: right;\">\n      <th></th>\n      <th>Survived</th>\n      <th>Pclass</th>\n      <th>Name</th>\n      <th>Sex</th>\n      <th>Age</th>\n      <th>SibSp</th>\n      <th>Parch</th>\n      <th>Ticket</th>\n      <th>Fare</th>\n      <th>Embarked</th>\n    </tr>\n  </thead>\n  <tbody>\n    <tr>\n      <th>0</th>\n      <td>0</td>\n      <td>3</td>\n      <td>Braund, Mr. Owen Harris</td>\n      <td>0</td>\n      <td>1</td>\n      <td>1</td>\n      <td>0</td>\n      <td>A/5 21171</td>\n      <td>0</td>\n      <td>S</td>\n    </tr>\n    <tr>\n      <th>1</th>\n      <td>1</td>\n      <td>1</td>\n      <td>Cumings, Mrs. John Bradley (Florence Briggs Th...</td>\n      <td>1</td>\n      <td>2</td>\n      <td>1</td>\n      <td>0</td>\n      <td>PC 17599</td>\n      <td>3</td>\n      <td>C</td>\n    </tr>\n    <tr>\n      <th>2</th>\n      <td>1</td>\n      <td>3</td>\n      <td>Heikkinen, Miss. Laina</td>\n      <td>1</td>\n      <td>2</td>\n      <td>0</td>\n      <td>0</td>\n      <td>STON/O2. 3101282</td>\n      <td>1</td>\n      <td>S</td>\n    </tr>\n    <tr>\n      <th>3</th>\n      <td>1</td>\n      <td>1</td>\n      <td>Futrelle, Mrs. Jacques Heath (Lily May Peel)</td>\n      <td>1</td>\n      <td>2</td>\n      <td>1</td>\n      <td>0</td>\n      <td>113803</td>\n      <td>3</td>\n      <td>S</td>\n    </tr>\n    <tr>\n      <th>4</th>\n      <td>0</td>\n      <td>3</td>\n      <td>Allen, Mr. William Henry</td>\n      <td>0</td>\n      <td>2</td>\n      <td>0</td>\n      <td>0</td>\n      <td>373450</td>\n      <td>1</td>\n      <td>S</td>\n    </tr>\n    <tr>\n      <th>...</th>\n      <td>...</td>\n      <td>...</td>\n      <td>...</td>\n      <td>...</td>\n      <td>...</td>\n      <td>...</td>\n      <td>...</td>\n      <td>...</td>\n      <td>...</td>\n      <td>...</td>\n    </tr>\n    <tr>\n      <th>886</th>\n      <td>0</td>\n      <td>2</td>\n      <td>Montvila, Rev. Juozas</td>\n      <td>0</td>\n      <td>2</td>\n      <td>0</td>\n      <td>0</td>\n      <td>211536</td>\n      <td>1</td>\n      <td>S</td>\n    </tr>\n    <tr>\n      <th>887</th>\n      <td>1</td>\n      <td>1</td>\n      <td>Graham, Miss. Margaret Edith</td>\n      <td>1</td>\n      <td>1</td>\n      <td>0</td>\n      <td>0</td>\n      <td>112053</td>\n      <td>2</td>\n      <td>S</td>\n    </tr>\n    <tr>\n      <th>888</th>\n      <td>0</td>\n      <td>3</td>\n      <td>Johnston, Miss. Catherine Helen \"Carrie\"</td>\n      <td>1</td>\n      <td>1</td>\n      <td>1</td>\n      <td>2</td>\n      <td>W./C. 6607</td>\n      <td>2</td>\n      <td>S</td>\n    </tr>\n    <tr>\n      <th>889</th>\n      <td>1</td>\n      <td>1</td>\n      <td>Behr, Mr. Karl Howell</td>\n      <td>0</td>\n      <td>2</td>\n      <td>0</td>\n      <td>0</td>\n      <td>111369</td>\n      <td>2</td>\n      <td>C</td>\n    </tr>\n    <tr>\n      <th>890</th>\n      <td>0</td>\n      <td>3</td>\n      <td>Dooley, Mr. Patrick</td>\n      <td>0</td>\n      <td>2</td>\n      <td>0</td>\n      <td>0</td>\n      <td>370376</td>\n      <td>0</td>\n      <td>Q</td>\n    </tr>\n  </tbody>\n</table>\n<p>891 rows × 10 columns</p>\n</div>"
     },
     "metadata": {},
     "execution_count": 443
    }
   ],
   "source": [
    "print('Preprocessed data:')\n",
    "data"
   ]
  }
 ],
 "metadata": {
  "language_info": {
   "codemirror_mode": {
    "name": "ipython",
    "version": 3
   },
   "file_extension": ".py",
   "mimetype": "text/x-python",
   "name": "python",
   "nbconvert_exporter": "python",
   "pygments_lexer": "ipython3",
   "version": "3.8.5-final"
  },
  "orig_nbformat": 2,
  "kernelspec": {
   "name": "python3",
   "display_name": "Python 3"
  }
 },
 "nbformat": 4,
 "nbformat_minor": 2
}